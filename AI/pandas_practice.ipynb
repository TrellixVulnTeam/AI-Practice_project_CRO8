{
 "cells": [
  {
   "cell_type": "code",
   "execution_count": 34,
   "id": "b32521a2",
   "metadata": {},
   "outputs": [],
   "source": [
    "import numpy as np"
   ]
  },
  {
   "cell_type": "code",
   "execution_count": 35,
   "id": "289456d4",
   "metadata": {},
   "outputs": [],
   "source": [
    "import pandas as pd"
   ]
  },
  {
   "cell_type": "code",
   "execution_count": 36,
   "id": "90b10d0d",
   "metadata": {},
   "outputs": [],
   "source": [
    "#series\n"
   ]
  },
  {
   "cell_type": "code",
   "execution_count": 37,
   "id": "edf0c496",
   "metadata": {},
   "outputs": [],
   "source": [
    "lables = ['a','b','c']\n",
    "my_data = [10,20,30]\n",
    "arr = np.array(my_data)\n",
    "d = {'a':10, 'b':20, 'c':30} "
   ]
  },
  {
   "cell_type": "code",
   "execution_count": 38,
   "id": "e318c77b",
   "metadata": {},
   "outputs": [
    {
     "data": {
      "text/plain": [
       "0    10\n",
       "1    20\n",
       "2    30\n",
       "dtype: int64"
      ]
     },
     "execution_count": 38,
     "metadata": {},
     "output_type": "execute_result"
    }
   ],
   "source": [
    "pd.Series(data = my_data)"
   ]
  },
  {
   "cell_type": "code",
   "execution_count": 39,
   "id": "a7a93a9d",
   "metadata": {},
   "outputs": [
    {
     "data": {
      "text/plain": [
       "a    10\n",
       "b    20\n",
       "c    30\n",
       "dtype: int64"
      ]
     },
     "execution_count": 39,
     "metadata": {},
     "output_type": "execute_result"
    }
   ],
   "source": [
    "pd.Series(data = my_data, index=lables)"
   ]
  },
  {
   "cell_type": "code",
   "execution_count": 40,
   "id": "bee9d0db",
   "metadata": {},
   "outputs": [
    {
     "data": {
      "text/plain": [
       "a    10\n",
       "b    20\n",
       "c    30\n",
       "dtype: int64"
      ]
     },
     "execution_count": 40,
     "metadata": {},
     "output_type": "execute_result"
    }
   ],
   "source": [
    "pd.Series(d)"
   ]
  },
  {
   "cell_type": "code",
   "execution_count": 41,
   "id": "81a6f6e2",
   "metadata": {},
   "outputs": [],
   "source": [
    " ser1 = pd.Series([1,2,3,4], ['USA','Germen', 'USSR', 'Japan'])"
   ]
  },
  {
   "cell_type": "code",
   "execution_count": 42,
   "id": "766f1d83",
   "metadata": {},
   "outputs": [],
   "source": [
    " ser2 = pd.Series([1,2,3,4], ['USA','Germen', 'Italy', 'Japan'])"
   ]
  },
  {
   "cell_type": "code",
   "execution_count": 43,
   "id": "405d512e",
   "metadata": {},
   "outputs": [
    {
     "data": {
      "text/plain": [
       "USA       1\n",
       "Germen    2\n",
       "Italy     3\n",
       "Japan     4\n",
       "dtype: int64"
      ]
     },
     "execution_count": 43,
     "metadata": {},
     "output_type": "execute_result"
    }
   ],
   "source": [
    "ser2\n"
   ]
  },
  {
   "cell_type": "code",
   "execution_count": 44,
   "id": "d41918ac",
   "metadata": {},
   "outputs": [],
   "source": [
    "ser3 = pd.Series(data=lables)"
   ]
  },
  {
   "cell_type": "code",
   "execution_count": 45,
   "id": "ec1a0fa3",
   "metadata": {},
   "outputs": [
    {
     "data": {
      "text/plain": [
       "0    a\n",
       "1    b\n",
       "2    c\n",
       "dtype: object"
      ]
     },
     "execution_count": 45,
     "metadata": {},
     "output_type": "execute_result"
    }
   ],
   "source": [
    "ser3"
   ]
  },
  {
   "cell_type": "code",
   "execution_count": 46,
   "id": "8959e377",
   "metadata": {},
   "outputs": [
    {
     "data": {
      "text/plain": [
       "1"
      ]
     },
     "execution_count": 46,
     "metadata": {},
     "output_type": "execute_result"
    }
   ],
   "source": [
    "ser1['USA']"
   ]
  },
  {
   "cell_type": "code",
   "execution_count": 47,
   "id": "105e52f6",
   "metadata": {},
   "outputs": [
    {
     "data": {
      "text/plain": [
       "USA       1\n",
       "Germen    2\n",
       "Italy     3\n",
       "Japan     4\n",
       "dtype: int64"
      ]
     },
     "execution_count": 47,
     "metadata": {},
     "output_type": "execute_result"
    }
   ],
   "source": [
    "ser2"
   ]
  },
  {
   "cell_type": "code",
   "execution_count": 48,
   "id": "ad3bae4e",
   "metadata": {},
   "outputs": [
    {
     "data": {
      "text/plain": [
       "USA       1\n",
       "Germen    2\n",
       "USSR      3\n",
       "Japan     4\n",
       "dtype: int64"
      ]
     },
     "execution_count": 48,
     "metadata": {},
     "output_type": "execute_result"
    }
   ],
   "source": [
    "ser1"
   ]
  },
  {
   "cell_type": "code",
   "execution_count": 49,
   "id": "784155a8",
   "metadata": {},
   "outputs": [
    {
     "data": {
      "text/plain": [
       "Germen    4.0\n",
       "Italy     NaN\n",
       "Japan     8.0\n",
       "USA       2.0\n",
       "USSR      NaN\n",
       "dtype: float64"
      ]
     },
     "execution_count": 49,
     "metadata": {},
     "output_type": "execute_result"
    }
   ],
   "source": [
    "ser1 + ser2"
   ]
  },
  {
   "cell_type": "code",
   "execution_count": null,
   "id": "22a22a95",
   "metadata": {},
   "outputs": [],
   "source": [
    " "
   ]
  }
 ],
 "metadata": {
  "kernelspec": {
   "display_name": "Python 3 (ipykernel)",
   "language": "python",
   "name": "python3"
  },
  "language_info": {
   "codemirror_mode": {
    "name": "ipython",
    "version": 3
   },
   "file_extension": ".py",
   "mimetype": "text/x-python",
   "name": "python",
   "nbconvert_exporter": "python",
   "pygments_lexer": "ipython3",
   "version": "3.8.10"
  }
 },
 "nbformat": 4,
 "nbformat_minor": 5
}
